{
 "cells": [
  {
   "cell_type": "markdown",
   "id": "cbd6628d",
   "metadata": {},
   "source": [
    "## Project Name: Zomato Data Analysis"
   ]
  },
  {
   "cell_type": "markdown",
   "id": "78aeb8b1",
   "metadata": {},
   "source": [
    "### Project Objective:\n",
    "\n",
    "- Zomato API Analysis is one of the most useful analysis for foodies who want to taste the best cuisines of every part of the world which lies in their budget.\n",
    "\n",
    "\n",
    "- This analysis is also for those who want to find the value for money restaurants in various parts of the country for the cuisines.\n",
    "\n",
    "\n",
    "- Additionally, this analysis caters the needs of people who are striving to get the best cuisine of the country and which locality of that country serves that cuisines with maximum number of restaurants.\n",
    "\n",
    "Using Zomato dataset we try to find out following questions answer:\n",
    "   1. Top 3 countries that uses the zomato?\n",
    "   2. Find maximum number of rating?\n",
    "   3. Find the country names that have 0 rating restaurants.\n",
    "   4. Distribution of restaurent across countries?\n",
    "   5. Find out which currency is used by which country?\n",
    "   6. Which countries do have online Delivery options and which have not online delivery options?\n",
    "   7. Create a pie chart for  top 5 cities distribution.\n",
    "   8. Find the top 10 Cuisines\n",
    "   9. Which country has cheapest food?\n",
    "   10. a) Create a tree map for cuisines for India. <br> b. Create a tree map for cuisines for United States.\n",
    "   11. a) Create a histogram for distribution of votes across India ?<br> b) Create a histogram for distribution of votes across United States ?\n",
    "   \n",
    "### Analysis Involve Phases:\n",
    "1. Data collection\n",
    "2. Data Cleaning & Preparation\n",
    "3. Data Analysis"
   ]
  },
  {
   "cell_type": "markdown",
   "id": "112a37cb",
   "metadata": {},
   "source": [
    "## Phase 1. Data Collection\n",
    "We are using two datasets:\n",
    "1. Zomato dataset which include restaurant information along with its ratings details which is taken from Kaggle.\n",
    "2. Country dataset that helps us to add country information from its country code from Zomato dataset."
   ]
  },
  {
   "cell_type": "code",
   "execution_count": 35,
   "id": "406b64e1",
   "metadata": {},
   "outputs": [],
   "source": [
    "# importing basic libraries\n",
    "import pandas as pd\n",
    "import numpy as np\n",
    "import matplotlib.pyplot as plt\n",
    "import seaborn as sns\n",
    "from matplotlib import rcParams\n",
    "%matplotlib inline"
   ]
  },
  {
   "cell_type": "code",
   "execution_count": 36,
   "id": "12cade50",
   "metadata": {},
   "outputs": [],
   "source": [
    "# Zomato dataset\n",
    "df=pd.read_csv('zomato.csv')"
   ]
  },
  {
   "cell_type": "code",
   "execution_count": 37,
   "id": "9bec2838",
   "metadata": {},
   "outputs": [],
   "source": [
    "# Country code dataset\n",
    "df_country=pd.read_excel('Country-Code.xlsx')"
   ]
  },
  {
   "cell_type": "code",
   "execution_count": 38,
   "id": "be8c5dfd",
   "metadata": {},
   "outputs": [],
   "source": [
    "# Merge two datasets on Country_Code column\n",
    "final_df=pd.merge(df,df_country,on='Country Code',how='left')"
   ]
  },
  {
   "cell_type": "code",
   "execution_count": 39,
   "id": "9fe628d3",
   "metadata": {},
   "outputs": [],
   "source": [
    "# Created a dictionary for Currency Exchange data\n",
    "currency_exchange_data={'Country':['Phillipines', 'Brazil', 'United States', 'Australia', 'Canada',\n",
    "       'Singapore', 'UAE', 'India', 'Indonesia', 'New Zealand',\n",
    "       'United Kingdom', 'Qatar', 'South Africa', 'Sri Lanka', 'Turkey'],\n",
    "     'exchange_rate_in_US_dollar':[0.018,0.19,1,0.66,0.73,0.74,0.27,0.012,0.000065,0.612,1.18,0.2733,0.054,0.0030,0.0053]}"
   ]
  },
  {
   "cell_type": "code",
   "execution_count": 40,
   "id": "a558f6bc",
   "metadata": {},
   "outputs": [],
   "source": [
    "currency_exchange_df=pd.DataFrame(currency_exchange_data)"
   ]
  },
  {
   "cell_type": "code",
   "execution_count": 41,
   "id": "55c9fddf",
   "metadata": {},
   "outputs": [
    {
     "data": {
      "text/html": [
       "<div>\n",
       "<style scoped>\n",
       "    .dataframe tbody tr th:only-of-type {\n",
       "        vertical-align: middle;\n",
       "    }\n",
       "\n",
       "    .dataframe tbody tr th {\n",
       "        vertical-align: top;\n",
       "    }\n",
       "\n",
       "    .dataframe thead th {\n",
       "        text-align: right;\n",
       "    }\n",
       "</style>\n",
       "<table border=\"1\" class=\"dataframe\">\n",
       "  <thead>\n",
       "    <tr style=\"text-align: right;\">\n",
       "      <th></th>\n",
       "      <th>Country</th>\n",
       "      <th>exchange_rate_in_US_dollar</th>\n",
       "    </tr>\n",
       "  </thead>\n",
       "  <tbody>\n",
       "    <tr>\n",
       "      <th>0</th>\n",
       "      <td>Phillipines</td>\n",
       "      <td>0.018</td>\n",
       "    </tr>\n",
       "    <tr>\n",
       "      <th>1</th>\n",
       "      <td>Brazil</td>\n",
       "      <td>0.190</td>\n",
       "    </tr>\n",
       "    <tr>\n",
       "      <th>2</th>\n",
       "      <td>United States</td>\n",
       "      <td>1.000</td>\n",
       "    </tr>\n",
       "    <tr>\n",
       "      <th>3</th>\n",
       "      <td>Australia</td>\n",
       "      <td>0.660</td>\n",
       "    </tr>\n",
       "    <tr>\n",
       "      <th>4</th>\n",
       "      <td>Canada</td>\n",
       "      <td>0.730</td>\n",
       "    </tr>\n",
       "  </tbody>\n",
       "</table>\n",
       "</div>"
      ],
      "text/plain": [
       "         Country  exchange_rate_in_US_dollar\n",
       "0    Phillipines                       0.018\n",
       "1         Brazil                       0.190\n",
       "2  United States                       1.000\n",
       "3      Australia                       0.660\n",
       "4         Canada                       0.730"
      ]
     },
     "execution_count": 41,
     "metadata": {},
     "output_type": "execute_result"
    }
   ],
   "source": [
    "currency_exchange_df.head()"
   ]
  },
  {
   "cell_type": "code",
   "execution_count": 42,
   "id": "561f072b",
   "metadata": {},
   "outputs": [],
   "source": [
    "final_df=pd.merge(final_df,currency_exchange_df,on='Country',how='left')"
   ]
  },
  {
   "cell_type": "markdown",
   "id": "99ea2fd1",
   "metadata": {},
   "source": [
    "## Phase 2. Data Cleaning & Preparation"
   ]
  },
  {
   "cell_type": "markdown",
   "id": "09a5ad88",
   "metadata": {},
   "source": [
    "#### Fix dataframe column names\n"
   ]
  },
  {
   "cell_type": "code",
   "execution_count": 43,
   "id": "1134d0a1",
   "metadata": {},
   "outputs": [
    {
     "data": {
      "text/plain": [
       "Index(['Restaurant ID', 'Restaurant Name', 'Country Code', 'City', 'Address',\n",
       "       'Locality', 'Locality Verbose', 'Longitude', 'Latitude', 'Cuisines',\n",
       "       'Average Cost for two', 'Currency', 'Has Table booking',\n",
       "       'Has Online delivery', 'Is delivering now', 'Switch to order menu',\n",
       "       'Price range', 'Aggregate rating', 'Rating color', 'Rating text',\n",
       "       'Votes', 'Country', 'exchange_rate_in_US_dollar'],\n",
       "      dtype='object')"
      ]
     },
     "execution_count": 43,
     "metadata": {},
     "output_type": "execute_result"
    }
   ],
   "source": [
    "final_df.columns"
   ]
  },
  {
   "cell_type": "code",
   "execution_count": 44,
   "id": "3f7d1109",
   "metadata": {},
   "outputs": [],
   "source": [
    "final_df = final_df.rename(columns={'Restaurant ID':'restaurant_id', \n",
    "                         'Restaurant Name': 'restaurant_name', \n",
    "                         'Country Code': 'country_code', \n",
    "                         'City': 'city', \n",
    "                         'Address': 'address',\n",
    "                         'Locality': 'locality', \n",
    "                         'Locality Verbose': 'locality_verbose', \n",
    "                         'Longitude':'longitude', \n",
    "                         'Latitude': 'latitude', \n",
    "                         'Cuisines': 'cuisines',\n",
    "                         'Average Cost for two': 'average_cost_for_two', \n",
    "                         'Currency':'currency', \n",
    "                         'Has Table booking': 'has_table_booking',\n",
    "                         'Has Online delivery': 'has_online_delivery', \n",
    "                         'Is delivering now': 'is_delivering_now', \n",
    "                         'Switch to order menu':'switch_to_order_menu',\n",
    "                         'Price range': 'price_range', \n",
    "                         'Aggregate rating': 'aggregate_rating', \n",
    "                         'Rating color': 'rating_color', \n",
    "                         'Rating text': 'rating_text',\n",
    "                         'Votes': 'votes', \n",
    "                         'Country': 'country'\n",
    "                        })"
   ]
  },
  {
   "cell_type": "code",
   "execution_count": 45,
   "id": "a547ea58",
   "metadata": {},
   "outputs": [
    {
     "data": {
      "text/html": [
       "<div>\n",
       "<style scoped>\n",
       "    .dataframe tbody tr th:only-of-type {\n",
       "        vertical-align: middle;\n",
       "    }\n",
       "\n",
       "    .dataframe tbody tr th {\n",
       "        vertical-align: top;\n",
       "    }\n",
       "\n",
       "    .dataframe thead th {\n",
       "        text-align: right;\n",
       "    }\n",
       "</style>\n",
       "<table border=\"1\" class=\"dataframe\">\n",
       "  <thead>\n",
       "    <tr style=\"text-align: right;\">\n",
       "      <th></th>\n",
       "      <th>restaurant_id</th>\n",
       "      <th>country_code</th>\n",
       "      <th>longitude</th>\n",
       "      <th>latitude</th>\n",
       "      <th>average_cost_for_two</th>\n",
       "      <th>price_range</th>\n",
       "      <th>aggregate_rating</th>\n",
       "      <th>votes</th>\n",
       "      <th>exchange_rate_in_US_dollar</th>\n",
       "    </tr>\n",
       "  </thead>\n",
       "  <tbody>\n",
       "    <tr>\n",
       "      <th>count</th>\n",
       "      <td>9.551000e+03</td>\n",
       "      <td>9551.000000</td>\n",
       "      <td>9551.000000</td>\n",
       "      <td>9551.000000</td>\n",
       "      <td>9551.000000</td>\n",
       "      <td>9551.000000</td>\n",
       "      <td>9551.000000</td>\n",
       "      <td>9551.000000</td>\n",
       "      <td>9551.000000</td>\n",
       "    </tr>\n",
       "    <tr>\n",
       "      <th>mean</th>\n",
       "      <td>9.051128e+06</td>\n",
       "      <td>18.365616</td>\n",
       "      <td>64.126574</td>\n",
       "      <td>25.854381</td>\n",
       "      <td>1199.210763</td>\n",
       "      <td>1.804837</td>\n",
       "      <td>2.666370</td>\n",
       "      <td>156.909748</td>\n",
       "      <td>0.076139</td>\n",
       "    </tr>\n",
       "    <tr>\n",
       "      <th>std</th>\n",
       "      <td>8.791521e+06</td>\n",
       "      <td>56.750546</td>\n",
       "      <td>41.467058</td>\n",
       "      <td>11.007935</td>\n",
       "      <td>16121.183073</td>\n",
       "      <td>0.905609</td>\n",
       "      <td>1.516378</td>\n",
       "      <td>430.169145</td>\n",
       "      <td>0.237351</td>\n",
       "    </tr>\n",
       "    <tr>\n",
       "      <th>min</th>\n",
       "      <td>5.300000e+01</td>\n",
       "      <td>1.000000</td>\n",
       "      <td>-157.948486</td>\n",
       "      <td>-41.330428</td>\n",
       "      <td>0.000000</td>\n",
       "      <td>1.000000</td>\n",
       "      <td>0.000000</td>\n",
       "      <td>0.000000</td>\n",
       "      <td>0.000065</td>\n",
       "    </tr>\n",
       "    <tr>\n",
       "      <th>25%</th>\n",
       "      <td>3.019625e+05</td>\n",
       "      <td>1.000000</td>\n",
       "      <td>77.081343</td>\n",
       "      <td>28.478713</td>\n",
       "      <td>250.000000</td>\n",
       "      <td>1.000000</td>\n",
       "      <td>2.500000</td>\n",
       "      <td>5.000000</td>\n",
       "      <td>0.012000</td>\n",
       "    </tr>\n",
       "    <tr>\n",
       "      <th>50%</th>\n",
       "      <td>6.004089e+06</td>\n",
       "      <td>1.000000</td>\n",
       "      <td>77.191964</td>\n",
       "      <td>28.570469</td>\n",
       "      <td>400.000000</td>\n",
       "      <td>2.000000</td>\n",
       "      <td>3.200000</td>\n",
       "      <td>31.000000</td>\n",
       "      <td>0.012000</td>\n",
       "    </tr>\n",
       "    <tr>\n",
       "      <th>75%</th>\n",
       "      <td>1.835229e+07</td>\n",
       "      <td>1.000000</td>\n",
       "      <td>77.282006</td>\n",
       "      <td>28.642758</td>\n",
       "      <td>700.000000</td>\n",
       "      <td>2.000000</td>\n",
       "      <td>3.700000</td>\n",
       "      <td>131.000000</td>\n",
       "      <td>0.012000</td>\n",
       "    </tr>\n",
       "    <tr>\n",
       "      <th>max</th>\n",
       "      <td>1.850065e+07</td>\n",
       "      <td>216.000000</td>\n",
       "      <td>174.832089</td>\n",
       "      <td>55.976980</td>\n",
       "      <td>800000.000000</td>\n",
       "      <td>4.000000</td>\n",
       "      <td>4.900000</td>\n",
       "      <td>10934.000000</td>\n",
       "      <td>1.180000</td>\n",
       "    </tr>\n",
       "  </tbody>\n",
       "</table>\n",
       "</div>"
      ],
      "text/plain": [
       "       restaurant_id  country_code    longitude     latitude  \\\n",
       "count   9.551000e+03   9551.000000  9551.000000  9551.000000   \n",
       "mean    9.051128e+06     18.365616    64.126574    25.854381   \n",
       "std     8.791521e+06     56.750546    41.467058    11.007935   \n",
       "min     5.300000e+01      1.000000  -157.948486   -41.330428   \n",
       "25%     3.019625e+05      1.000000    77.081343    28.478713   \n",
       "50%     6.004089e+06      1.000000    77.191964    28.570469   \n",
       "75%     1.835229e+07      1.000000    77.282006    28.642758   \n",
       "max     1.850065e+07    216.000000   174.832089    55.976980   \n",
       "\n",
       "       average_cost_for_two  price_range  aggregate_rating         votes  \\\n",
       "count           9551.000000  9551.000000       9551.000000   9551.000000   \n",
       "mean            1199.210763     1.804837          2.666370    156.909748   \n",
       "std            16121.183073     0.905609          1.516378    430.169145   \n",
       "min                0.000000     1.000000          0.000000      0.000000   \n",
       "25%              250.000000     1.000000          2.500000      5.000000   \n",
       "50%              400.000000     2.000000          3.200000     31.000000   \n",
       "75%              700.000000     2.000000          3.700000    131.000000   \n",
       "max           800000.000000     4.000000          4.900000  10934.000000   \n",
       "\n",
       "       exchange_rate_in_US_dollar  \n",
       "count                 9551.000000  \n",
       "mean                     0.076139  \n",
       "std                      0.237351  \n",
       "min                      0.000065  \n",
       "25%                      0.012000  \n",
       "50%                      0.012000  \n",
       "75%                      0.012000  \n",
       "max                      1.180000  "
      ]
     },
     "execution_count": 45,
     "metadata": {},
     "output_type": "execute_result"
    }
   ],
   "source": [
    "final_df.describe()"
   ]
  },
  {
   "cell_type": "code",
   "execution_count": 46,
   "id": "ef926c65",
   "metadata": {},
   "outputs": [
    {
     "data": {
      "text/plain": [
       "(9551, 23)"
      ]
     },
     "execution_count": 46,
     "metadata": {},
     "output_type": "execute_result"
    }
   ],
   "source": [
    "final_df.shape"
   ]
  },
  {
   "cell_type": "markdown",
   "id": "244c4e52",
   "metadata": {},
   "source": [
    "### Observation: \n",
    "1. restaurant_id: \n",
    "- Unique id for each restaurant across various cities of the world\n",
    "- Also this column is Primary key column in table.\n",
    "\n",
    "2. restaurant_name:\n",
    "- Restaurant name belongs to its id.\n",
    "\n",
    "3. country_code:\n",
    "- Code for each country.\n",
    "- Country in which restaurant is located\n",
    "- There are total 15 unique country codes in this dataset.\n",
    "\n",
    "4. city:\n",
    "- City in which restaurants are located.\n",
    "- There are total 141 cities restaurant data into the dataset.\n",
    "\n",
    "4. address:\n",
    "- Address of restaurants.\n",
    "\n",
    "5. locality\n",
    "- Locality of restaurants in that city.\n",
    "- There are total 1208 unique localities data into the dataset.\n",
    "\n",
    "6. locality_verbose\n",
    "- Represents detailed description of the locality\n",
    "- We can drop  either 'locality' or 'locality_verbose' columns as it contains similar information.\n",
    " \n",
    "7. longitude\n",
    "- Represents geographical longitude coordinate of the restaurant’s location.\n",
    "\n",
    "8. latitude\n",
    "- Represents geographical latitude coordinate of the restaurant’s location.\n",
    "\n",
    "9. cuisines\n",
    "- Represents different types of Cusines offered by the restaurants.\n",
    "- There are total 1825 unique cuisines.\n",
    "- There are total 9 null values in cuisines, means restaurant cusinies information is not available.\n",
    "\n",
    "10. average_cost_for_two\n",
    "- Represents average cost for 2 persons in local currency.\n",
    "\n",
    "11. currency\n",
    "- Represents Currency of every country\n",
    "- There are 12 unique currency\n",
    "\n",
    "12. has_table_booking\n",
    "- Represents whether the restaurant has table booking or not.\n",
    "- It is boolean datatype \n",
    "\n",
    "13. has_online_delivery\n",
    "- Represents whether the restaurent has online delivery option or not.\n",
    "- It is boolean datatype\n",
    "\n",
    "14. is_delivering_now\n",
    "- Represents whether the restaurent will be able to deliver at specific timing.\n",
    "- It is boolean datatype\n",
    "\n",
    "15. switch_to_order_menu\n",
    "- It is boolean data type\n",
    "- It has 9551 No records\n",
    "- We can drop this column as it doesn't contain any informative information in further analysis.\n",
    "\n",
    "16. price_range\n",
    "- represents range of price of food.\n",
    "- There are total 4 unique values in price range.\n",
    "- It is a array which contains [1,2,3,4].\n",
    "\n",
    "17. aggregate_rating\n",
    "- Represents rating of restaurant out of 5.\n",
    "- There are toatal 33 unique values in aggregate_rating.\n",
    " \n",
    "18. rating_color\n",
    "- There are total 6 unique rating colour with respect to aggregate rating column.\n",
    "- Represents colour to specific range  with reference to aggregate_rating column.\n",
    "\n",
    "19. rating_text\n",
    "- there are total 6 unique rating text with respect to aggregate rating column.\n",
    "- represents rating text of restaurant\n",
    "\n",
    "20. votes \n",
    "- Represents number of ratings given to specific restaurant.\n",
    "\n",
    "21. country\n",
    "- Represents country of restaurant.\n",
    "- There are total 15 unique countries in the dataset.\n"
   ]
  },
  {
   "cell_type": "code",
   "execution_count": 47,
   "id": "56cc460a",
   "metadata": {},
   "outputs": [
    {
     "data": {
      "text/html": [
       "<div>\n",
       "<style scoped>\n",
       "    .dataframe tbody tr th:only-of-type {\n",
       "        vertical-align: middle;\n",
       "    }\n",
       "\n",
       "    .dataframe tbody tr th {\n",
       "        vertical-align: top;\n",
       "    }\n",
       "\n",
       "    .dataframe thead th {\n",
       "        text-align: right;\n",
       "    }\n",
       "</style>\n",
       "<table border=\"1\" class=\"dataframe\">\n",
       "  <thead>\n",
       "    <tr style=\"text-align: right;\">\n",
       "      <th></th>\n",
       "      <th>restaurant_id</th>\n",
       "      <th>restaurant_name</th>\n",
       "      <th>country_code</th>\n",
       "      <th>city</th>\n",
       "      <th>address</th>\n",
       "      <th>locality</th>\n",
       "      <th>locality_verbose</th>\n",
       "      <th>longitude</th>\n",
       "      <th>latitude</th>\n",
       "      <th>cuisines</th>\n",
       "      <th>...</th>\n",
       "      <th>has_online_delivery</th>\n",
       "      <th>is_delivering_now</th>\n",
       "      <th>switch_to_order_menu</th>\n",
       "      <th>price_range</th>\n",
       "      <th>aggregate_rating</th>\n",
       "      <th>rating_color</th>\n",
       "      <th>rating_text</th>\n",
       "      <th>votes</th>\n",
       "      <th>country</th>\n",
       "      <th>exchange_rate_in_US_dollar</th>\n",
       "    </tr>\n",
       "  </thead>\n",
       "  <tbody>\n",
       "    <tr>\n",
       "      <th>0</th>\n",
       "      <td>6317637</td>\n",
       "      <td>Le Petit Souffle</td>\n",
       "      <td>162</td>\n",
       "      <td>Makati City</td>\n",
       "      <td>Third Floor, Century City Mall, Kalayaan Avenu...</td>\n",
       "      <td>Century City Mall, Poblacion, Makati City</td>\n",
       "      <td>Century City Mall, Poblacion, Makati City, Mak...</td>\n",
       "      <td>121.027535</td>\n",
       "      <td>14.565443</td>\n",
       "      <td>French, Japanese, Desserts</td>\n",
       "      <td>...</td>\n",
       "      <td>No</td>\n",
       "      <td>No</td>\n",
       "      <td>No</td>\n",
       "      <td>3</td>\n",
       "      <td>4.8</td>\n",
       "      <td>Dark Green</td>\n",
       "      <td>Excellent</td>\n",
       "      <td>314</td>\n",
       "      <td>Phillipines</td>\n",
       "      <td>0.018</td>\n",
       "    </tr>\n",
       "    <tr>\n",
       "      <th>1</th>\n",
       "      <td>6304287</td>\n",
       "      <td>Izakaya Kikufuji</td>\n",
       "      <td>162</td>\n",
       "      <td>Makati City</td>\n",
       "      <td>Little Tokyo, 2277 Chino Roces Avenue, Legaspi...</td>\n",
       "      <td>Little Tokyo, Legaspi Village, Makati City</td>\n",
       "      <td>Little Tokyo, Legaspi Village, Makati City, Ma...</td>\n",
       "      <td>121.014101</td>\n",
       "      <td>14.553708</td>\n",
       "      <td>Japanese</td>\n",
       "      <td>...</td>\n",
       "      <td>No</td>\n",
       "      <td>No</td>\n",
       "      <td>No</td>\n",
       "      <td>3</td>\n",
       "      <td>4.5</td>\n",
       "      <td>Dark Green</td>\n",
       "      <td>Excellent</td>\n",
       "      <td>591</td>\n",
       "      <td>Phillipines</td>\n",
       "      <td>0.018</td>\n",
       "    </tr>\n",
       "    <tr>\n",
       "      <th>2</th>\n",
       "      <td>6300002</td>\n",
       "      <td>Heat - Edsa Shangri-La</td>\n",
       "      <td>162</td>\n",
       "      <td>Mandaluyong City</td>\n",
       "      <td>Edsa Shangri-La, 1 Garden Way, Ortigas, Mandal...</td>\n",
       "      <td>Edsa Shangri-La, Ortigas, Mandaluyong City</td>\n",
       "      <td>Edsa Shangri-La, Ortigas, Mandaluyong City, Ma...</td>\n",
       "      <td>121.056831</td>\n",
       "      <td>14.581404</td>\n",
       "      <td>Seafood, Asian, Filipino, Indian</td>\n",
       "      <td>...</td>\n",
       "      <td>No</td>\n",
       "      <td>No</td>\n",
       "      <td>No</td>\n",
       "      <td>4</td>\n",
       "      <td>4.4</td>\n",
       "      <td>Green</td>\n",
       "      <td>Very Good</td>\n",
       "      <td>270</td>\n",
       "      <td>Phillipines</td>\n",
       "      <td>0.018</td>\n",
       "    </tr>\n",
       "    <tr>\n",
       "      <th>3</th>\n",
       "      <td>6318506</td>\n",
       "      <td>Ooma</td>\n",
       "      <td>162</td>\n",
       "      <td>Mandaluyong City</td>\n",
       "      <td>Third Floor, Mega Fashion Hall, SM Megamall, O...</td>\n",
       "      <td>SM Megamall, Ortigas, Mandaluyong City</td>\n",
       "      <td>SM Megamall, Ortigas, Mandaluyong City, Mandal...</td>\n",
       "      <td>121.056475</td>\n",
       "      <td>14.585318</td>\n",
       "      <td>Japanese, Sushi</td>\n",
       "      <td>...</td>\n",
       "      <td>No</td>\n",
       "      <td>No</td>\n",
       "      <td>No</td>\n",
       "      <td>4</td>\n",
       "      <td>4.9</td>\n",
       "      <td>Dark Green</td>\n",
       "      <td>Excellent</td>\n",
       "      <td>365</td>\n",
       "      <td>Phillipines</td>\n",
       "      <td>0.018</td>\n",
       "    </tr>\n",
       "    <tr>\n",
       "      <th>4</th>\n",
       "      <td>6314302</td>\n",
       "      <td>Sambo Kojin</td>\n",
       "      <td>162</td>\n",
       "      <td>Mandaluyong City</td>\n",
       "      <td>Third Floor, Mega Atrium, SM Megamall, Ortigas...</td>\n",
       "      <td>SM Megamall, Ortigas, Mandaluyong City</td>\n",
       "      <td>SM Megamall, Ortigas, Mandaluyong City, Mandal...</td>\n",
       "      <td>121.057508</td>\n",
       "      <td>14.584450</td>\n",
       "      <td>Japanese, Korean</td>\n",
       "      <td>...</td>\n",
       "      <td>No</td>\n",
       "      <td>No</td>\n",
       "      <td>No</td>\n",
       "      <td>4</td>\n",
       "      <td>4.8</td>\n",
       "      <td>Dark Green</td>\n",
       "      <td>Excellent</td>\n",
       "      <td>229</td>\n",
       "      <td>Phillipines</td>\n",
       "      <td>0.018</td>\n",
       "    </tr>\n",
       "  </tbody>\n",
       "</table>\n",
       "<p>5 rows × 23 columns</p>\n",
       "</div>"
      ],
      "text/plain": [
       "   restaurant_id         restaurant_name  country_code              city  \\\n",
       "0        6317637        Le Petit Souffle           162       Makati City   \n",
       "1        6304287        Izakaya Kikufuji           162       Makati City   \n",
       "2        6300002  Heat - Edsa Shangri-La           162  Mandaluyong City   \n",
       "3        6318506                    Ooma           162  Mandaluyong City   \n",
       "4        6314302             Sambo Kojin           162  Mandaluyong City   \n",
       "\n",
       "                                             address  \\\n",
       "0  Third Floor, Century City Mall, Kalayaan Avenu...   \n",
       "1  Little Tokyo, 2277 Chino Roces Avenue, Legaspi...   \n",
       "2  Edsa Shangri-La, 1 Garden Way, Ortigas, Mandal...   \n",
       "3  Third Floor, Mega Fashion Hall, SM Megamall, O...   \n",
       "4  Third Floor, Mega Atrium, SM Megamall, Ortigas...   \n",
       "\n",
       "                                     locality  \\\n",
       "0   Century City Mall, Poblacion, Makati City   \n",
       "1  Little Tokyo, Legaspi Village, Makati City   \n",
       "2  Edsa Shangri-La, Ortigas, Mandaluyong City   \n",
       "3      SM Megamall, Ortigas, Mandaluyong City   \n",
       "4      SM Megamall, Ortigas, Mandaluyong City   \n",
       "\n",
       "                                    locality_verbose   longitude   latitude  \\\n",
       "0  Century City Mall, Poblacion, Makati City, Mak...  121.027535  14.565443   \n",
       "1  Little Tokyo, Legaspi Village, Makati City, Ma...  121.014101  14.553708   \n",
       "2  Edsa Shangri-La, Ortigas, Mandaluyong City, Ma...  121.056831  14.581404   \n",
       "3  SM Megamall, Ortigas, Mandaluyong City, Mandal...  121.056475  14.585318   \n",
       "4  SM Megamall, Ortigas, Mandaluyong City, Mandal...  121.057508  14.584450   \n",
       "\n",
       "                           cuisines  ...  has_online_delivery  \\\n",
       "0        French, Japanese, Desserts  ...                   No   \n",
       "1                          Japanese  ...                   No   \n",
       "2  Seafood, Asian, Filipino, Indian  ...                   No   \n",
       "3                   Japanese, Sushi  ...                   No   \n",
       "4                  Japanese, Korean  ...                   No   \n",
       "\n",
       "  is_delivering_now switch_to_order_menu price_range aggregate_rating  \\\n",
       "0                No                   No           3              4.8   \n",
       "1                No                   No           3              4.5   \n",
       "2                No                   No           4              4.4   \n",
       "3                No                   No           4              4.9   \n",
       "4                No                   No           4              4.8   \n",
       "\n",
       "  rating_color  rating_text  votes      country exchange_rate_in_US_dollar  \n",
       "0   Dark Green    Excellent    314  Phillipines                      0.018  \n",
       "1   Dark Green    Excellent    591  Phillipines                      0.018  \n",
       "2        Green    Very Good    270  Phillipines                      0.018  \n",
       "3   Dark Green    Excellent    365  Phillipines                      0.018  \n",
       "4   Dark Green    Excellent    229  Phillipines                      0.018  \n",
       "\n",
       "[5 rows x 23 columns]"
      ]
     },
     "execution_count": 47,
     "metadata": {},
     "output_type": "execute_result"
    }
   ],
   "source": [
    "final_df.head()"
   ]
  },
  {
   "cell_type": "code",
   "execution_count": 48,
   "id": "5b05df00",
   "metadata": {},
   "outputs": [
    {
     "data": {
      "image/png": "[encoded data removed]",
      "text/plain": [
       "<Figure size 432x288 with 1 Axes>"
      ]
     },
     "metadata": {
      "needs_background": "light"
     },
     "output_type": "display_data"
    }
   ],
   "source": [
    "# Check which columns have null values graphically\n",
    "(final_df.isnull().sum()).plot.bar()\n",
    "rcParams['figure.figsize'] = 5,5"
   ]
  },
  {
   "cell_type": "markdown",
   "id": "77f813cf",
   "metadata": {},
   "source": [
    "### Observation:\n",
    "- Data is almost clean.\n",
    "- We have 9 null values into Cuisines columns.\n",
    "- As this columns doesn't effect other column values hence we are keeping as it's."
   ]
  },
  {
   "cell_type": "markdown",
   "id": "f73de6db",
   "metadata": {},
   "source": [
    "## Data Analysis"
   ]
  },
  {
   "cell_type": "markdown",
   "id": "a7debc9a",
   "metadata": {},
   "source": [
    "#### Q.1 Top 3 countries that uses the zomato?"
   ]
  },
  {
   "cell_type": "code",
   "execution_count": 49,
   "id": "dcd936b8",
   "metadata": {},
   "outputs": [],
   "source": [
    "country_names = final_df.country.value_counts().index[:3]"
   ]
  },
  {
   "cell_type": "code",
   "execution_count": 50,
   "id": "a8fff0c5",
   "metadata": {},
   "outputs": [],
   "source": [
    "country_val = final_df.country.value_counts().values[:3]"
   ]
  },
  {
   "cell_type": "code",
   "execution_count": 51,
   "id": "e72d7c4c",
   "metadata": {},
   "outputs": [
    {
     "data": {
      "image/png": "[encoded data removed]",
      "text/plain": [
       "<Figure size 360x360 with 1 Axes>"
      ]
     },
     "metadata": {},
     "output_type": "display_data"
    }
   ],
   "source": [
    "graph=plt.pie(country_val,labels=country_names,autopct='%1.2f%%')"
   ]
  },
  {
   "cell_type": "markdown",
   "id": "e0e0c271",
   "metadata": {},
   "source": [
    "### Observation --to do\n",
    "- As per the dataset:\n",
    "- Maximum number of transctions is in India\n",
    "- Zomato dataset maximum records are from India followed by USA and United Kingdom."
   ]
  },
  {
   "cell_type": "markdown",
   "id": "489303bc",
   "metadata": {},
   "source": [
    " #### Q.2 Find maximum number of rating?"
   ]
  },
  {
   "cell_type": "code",
   "execution_count": 19,
   "id": "24d67bd2",
   "metadata": {},
   "outputs": [],
   "source": [
    "ratings = final_df.groupby(['aggregate_rating','rating_color','rating_text']).size().reset_index().rename(columns={0:'rating_count'})"
   ]
  },
  {
   "cell_type": "code",
   "execution_count": 20,
   "id": "716707bf",
   "metadata": {},
   "outputs": [
    {
     "data": {
      "text/html": [
       "<div>\n",
       "<style scoped>\n",
       "    .dataframe tbody tr th:only-of-type {\n",
       "        vertical-align: middle;\n",
       "    }\n",
       "\n",
       "    .dataframe tbody tr th {\n",
       "        vertical-align: top;\n",
       "    }\n",
       "\n",
       "    .dataframe thead th {\n",
       "        text-align: right;\n",
       "    }\n",
       "</style>\n",
       "<table border=\"1\" class=\"dataframe\">\n",
       "  <thead>\n",
       "    <tr style=\"text-align: right;\">\n",
       "      <th></th>\n",
       "      <th>aggregate_rating</th>\n",
       "      <th>rating_color</th>\n",
       "      <th>rating_text</th>\n",
       "      <th>rating_count</th>\n",
       "    </tr>\n",
       "  </thead>\n",
       "  <tbody>\n",
       "    <tr>\n",
       "      <th>0</th>\n",
       "      <td>0.0</td>\n",
       "      <td>White</td>\n",
       "      <td>Not rated</td>\n",
       "      <td>2148</td>\n",
       "    </tr>\n",
       "    <tr>\n",
       "      <th>1</th>\n",
       "      <td>1.8</td>\n",
       "      <td>Red</td>\n",
       "      <td>Poor</td>\n",
       "      <td>1</td>\n",
       "    </tr>\n",
       "    <tr>\n",
       "      <th>2</th>\n",
       "      <td>1.9</td>\n",
       "      <td>Red</td>\n",
       "      <td>Poor</td>\n",
       "      <td>2</td>\n",
       "    </tr>\n",
       "    <tr>\n",
       "      <th>3</th>\n",
       "      <td>2.0</td>\n",
       "      <td>Red</td>\n",
       "      <td>Poor</td>\n",
       "      <td>7</td>\n",
       "    </tr>\n",
       "    <tr>\n",
       "      <th>4</th>\n",
       "      <td>2.1</td>\n",
       "      <td>Red</td>\n",
       "      <td>Poor</td>\n",
       "      <td>15</td>\n",
       "    </tr>\n",
       "    <tr>\n",
       "      <th>5</th>\n",
       "      <td>2.2</td>\n",
       "      <td>Red</td>\n",
       "      <td>Poor</td>\n",
       "      <td>27</td>\n",
       "    </tr>\n",
       "    <tr>\n",
       "      <th>6</th>\n",
       "      <td>2.3</td>\n",
       "      <td>Red</td>\n",
       "      <td>Poor</td>\n",
       "      <td>47</td>\n",
       "    </tr>\n",
       "    <tr>\n",
       "      <th>7</th>\n",
       "      <td>2.4</td>\n",
       "      <td>Red</td>\n",
       "      <td>Poor</td>\n",
       "      <td>87</td>\n",
       "    </tr>\n",
       "    <tr>\n",
       "      <th>8</th>\n",
       "      <td>2.5</td>\n",
       "      <td>Orange</td>\n",
       "      <td>Average</td>\n",
       "      <td>110</td>\n",
       "    </tr>\n",
       "    <tr>\n",
       "      <th>9</th>\n",
       "      <td>2.6</td>\n",
       "      <td>Orange</td>\n",
       "      <td>Average</td>\n",
       "      <td>191</td>\n",
       "    </tr>\n",
       "    <tr>\n",
       "      <th>10</th>\n",
       "      <td>2.7</td>\n",
       "      <td>Orange</td>\n",
       "      <td>Average</td>\n",
       "      <td>250</td>\n",
       "    </tr>\n",
       "    <tr>\n",
       "      <th>11</th>\n",
       "      <td>2.8</td>\n",
       "      <td>Orange</td>\n",
       "      <td>Average</td>\n",
       "      <td>315</td>\n",
       "    </tr>\n",
       "    <tr>\n",
       "      <th>12</th>\n",
       "      <td>2.9</td>\n",
       "      <td>Orange</td>\n",
       "      <td>Average</td>\n",
       "      <td>381</td>\n",
       "    </tr>\n",
       "    <tr>\n",
       "      <th>13</th>\n",
       "      <td>3.0</td>\n",
       "      <td>Orange</td>\n",
       "      <td>Average</td>\n",
       "      <td>468</td>\n",
       "    </tr>\n",
       "    <tr>\n",
       "      <th>14</th>\n",
       "      <td>3.1</td>\n",
       "      <td>Orange</td>\n",
       "      <td>Average</td>\n",
       "      <td>519</td>\n",
       "    </tr>\n",
       "    <tr>\n",
       "      <th>15</th>\n",
       "      <td>3.2</td>\n",
       "      <td>Orange</td>\n",
       "      <td>Average</td>\n",
       "      <td>522</td>\n",
       "    </tr>\n",
       "    <tr>\n",
       "      <th>16</th>\n",
       "      <td>3.3</td>\n",
       "      <td>Orange</td>\n",
       "      <td>Average</td>\n",
       "      <td>483</td>\n",
       "    </tr>\n",
       "    <tr>\n",
       "      <th>17</th>\n",
       "      <td>3.4</td>\n",
       "      <td>Orange</td>\n",
       "      <td>Average</td>\n",
       "      <td>498</td>\n",
       "    </tr>\n",
       "    <tr>\n",
       "      <th>18</th>\n",
       "      <td>3.5</td>\n",
       "      <td>Yellow</td>\n",
       "      <td>Good</td>\n",
       "      <td>480</td>\n",
       "    </tr>\n",
       "    <tr>\n",
       "      <th>19</th>\n",
       "      <td>3.6</td>\n",
       "      <td>Yellow</td>\n",
       "      <td>Good</td>\n",
       "      <td>458</td>\n",
       "    </tr>\n",
       "    <tr>\n",
       "      <th>20</th>\n",
       "      <td>3.7</td>\n",
       "      <td>Yellow</td>\n",
       "      <td>Good</td>\n",
       "      <td>427</td>\n",
       "    </tr>\n",
       "    <tr>\n",
       "      <th>21</th>\n",
       "      <td>3.8</td>\n",
       "      <td>Yellow</td>\n",
       "      <td>Good</td>\n",
       "      <td>400</td>\n",
       "    </tr>\n",
       "    <tr>\n",
       "      <th>22</th>\n",
       "      <td>3.9</td>\n",
       "      <td>Yellow</td>\n",
       "      <td>Good</td>\n",
       "      <td>335</td>\n",
       "    </tr>\n",
       "    <tr>\n",
       "      <th>23</th>\n",
       "      <td>4.0</td>\n",
       "      <td>Green</td>\n",
       "      <td>Very Good</td>\n",
       "      <td>266</td>\n",
       "    </tr>\n",
       "    <tr>\n",
       "      <th>24</th>\n",
       "      <td>4.1</td>\n",
       "      <td>Green</td>\n",
       "      <td>Very Good</td>\n",
       "      <td>274</td>\n",
       "    </tr>\n",
       "    <tr>\n",
       "      <th>25</th>\n",
       "      <td>4.2</td>\n",
       "      <td>Green</td>\n",
       "      <td>Very Good</td>\n",
       "      <td>221</td>\n",
       "    </tr>\n",
       "    <tr>\n",
       "      <th>26</th>\n",
       "      <td>4.3</td>\n",
       "      <td>Green</td>\n",
       "      <td>Very Good</td>\n",
       "      <td>174</td>\n",
       "    </tr>\n",
       "    <tr>\n",
       "      <th>27</th>\n",
       "      <td>4.4</td>\n",
       "      <td>Green</td>\n",
       "      <td>Very Good</td>\n",
       "      <td>144</td>\n",
       "    </tr>\n",
       "    <tr>\n",
       "      <th>28</th>\n",
       "      <td>4.5</td>\n",
       "      <td>Dark Green</td>\n",
       "      <td>Excellent</td>\n",
       "      <td>95</td>\n",
       "    </tr>\n",
       "    <tr>\n",
       "      <th>29</th>\n",
       "      <td>4.6</td>\n",
       "      <td>Dark Green</td>\n",
       "      <td>Excellent</td>\n",
       "      <td>78</td>\n",
       "    </tr>\n",
       "    <tr>\n",
       "      <th>30</th>\n",
       "      <td>4.7</td>\n",
       "      <td>Dark Green</td>\n",
       "      <td>Excellent</td>\n",
       "      <td>42</td>\n",
       "    </tr>\n",
       "    <tr>\n",
       "      <th>31</th>\n",
       "      <td>4.8</td>\n",
       "      <td>Dark Green</td>\n",
       "      <td>Excellent</td>\n",
       "      <td>25</td>\n",
       "    </tr>\n",
       "    <tr>\n",
       "      <th>32</th>\n",
       "      <td>4.9</td>\n",
       "      <td>Dark Green</td>\n",
       "      <td>Excellent</td>\n",
       "      <td>61</td>\n",
       "    </tr>\n",
       "  </tbody>\n",
       "</table>\n",
       "</div>"
      ],
      "text/plain": [
       "    aggregate_rating rating_color rating_text  rating_count\n",
       "0                0.0        White   Not rated          2148\n",
       "1                1.8          Red        Poor             1\n",
       "2                1.9          Red        Poor             2\n",
       "3                2.0          Red        Poor             7\n",
       "4                2.1          Red        Poor            15\n",
       "5                2.2          Red        Poor            27\n",
       "6                2.3          Red        Poor            47\n",
       "7                2.4          Red        Poor            87\n",
       "8                2.5       Orange     Average           110\n",
       "9                2.6       Orange     Average           191\n",
       "10               2.7       Orange     Average           250\n",
       "11               2.8       Orange     Average           315\n",
       "12               2.9       Orange     Average           381\n",
       "13               3.0       Orange     Average           468\n",
       "14               3.1       Orange     Average           519\n",
       "15               3.2       Orange     Average           522\n",
       "16               3.3       Orange     Average           483\n",
       "17               3.4       Orange     Average           498\n",
       "18               3.5       Yellow        Good           480\n",
       "19               3.6       Yellow        Good           458\n",
       "20               3.7       Yellow        Good           427\n",
       "21               3.8       Yellow        Good           400\n",
       "22               3.9       Yellow        Good           335\n",
       "23               4.0        Green   Very Good           266\n",
       "24               4.1        Green   Very Good           274\n",
       "25               4.2        Green   Very Good           221\n",
       "26               4.3        Green   Very Good           174\n",
       "27               4.4        Green   Very Good           144\n",
       "28               4.5   Dark Green   Excellent            95\n",
       "29               4.6   Dark Green   Excellent            78\n",
       "30               4.7   Dark Green   Excellent            42\n",
       "31               4.8   Dark Green   Excellent            25\n",
       "32               4.9   Dark Green   Excellent            61"
      ]
     },
     "execution_count": 20,
     "metadata": {},
     "output_type": "execute_result"
    }
   ],
   "source": [
    "ratings"
   ]
  },
  {
   "cell_type": "markdown",
   "id": "9182892f",
   "metadata": {},
   "source": [
    "## Observation\n",
    "\n",
    "- When rating is between:\n",
    "    - 4.5 to 4.9  ---> Excellent\n",
    "    - 4.0 to 4.4  ---> Very good\n",
    "    - 3.5 to 3.9  ---> Good\n",
    "    - 2.5 to 3.4  ---> Average\n",
    "    - 1.8 to 2.4  ---> Poor\n"
   ]
  },
  {
   "cell_type": "code",
   "execution_count": 21,
   "id": "eeff910c",
   "metadata": {},
   "outputs": [
    {
     "data": {
      "image/png": "[encoded data removed]",
      "text/plain": [
       "<Figure size 864x504 with 1 Axes>"
      ]
     },
     "metadata": {
      "needs_background": "light"
     },
     "output_type": "display_data"
    }
   ],
   "source": [
    "plt.figure(figsize=(12,7))\n",
    "palette_colour = [\"White\",\"Red\",\"Orange\",\"Yellow\",\"Green\",\"DarkGreen\"]\n",
    "ax = sns.barplot(x=\"aggregate_rating\", y=\"rating_count\",hue=\"rating_color\",data=ratings, palette = palette_colour)\n",
    "for p, label in zip(ax.patches, final_df[\"rating_color\"].value_counts().values):\n",
    "    ax.annotate(label, (p.get_x()+0.375, p.get_height()+0.15))"
   ]
  },
  {
   "cell_type": "markdown",
   "id": "279340aa",
   "metadata": {},
   "source": [
    "# Observations:\n",
    "\n",
    "- As labeled in graph - 3737 restaurants didn't have any rating.\n",
    "- Rating shows normal distribution i.e. the data follows a bell shape, with most values clustering around a central region and tapering off as they go further away from the center.\n",
    "- Maximum number restaurants are average rated i.e. between 3 to 3.5.\n"
   ]
  },
  {
   "cell_type": "markdown",
   "id": "b96a2292",
   "metadata": {},
   "source": [
    "#### Q.3.Find the country names that have 0 rating restaurants."
   ]
  },
  {
   "cell_type": "code",
   "execution_count": 22,
   "id": "1c2e7415",
   "metadata": {},
   "outputs": [],
   "source": [
    "country_name = final_df[final_df.aggregate_rating.isin([0.0])].country.value_counts().index\n",
    "restaurant_count = final_df[final_df.aggregate_rating.isin([0.0])].country.value_counts().values"
   ]
  },
  {
   "cell_type": "code",
   "execution_count": 23,
   "id": "d3faf88f",
   "metadata": {},
   "outputs": [
    {
     "data": {
      "image/png": "[encoded data removed]",
      "text/plain": [
       "<Figure size 864x504 with 1 Axes>"
      ]
     },
     "metadata": {
      "needs_background": "light"
     },
     "output_type": "display_data"
    }
   ],
   "source": [
    "plt.figure(figsize=(12,7))\n",
    "ax = sns.barplot(x=country_name, y=restaurant_count)\n",
    "for p, label in zip(ax.patches, restaurant_count):\n",
    "    ax.annotate(label, (p.get_x()+0.375, p.get_height()+0.15))"
   ]
  },
  {
   "cell_type": "markdown",
   "id": "3f5439b1",
   "metadata": {},
   "source": [
    "#### Obseravations:\n",
    "- Maximum number 0 rated restaurants are from India i.e. 2139 restaurants.\n",
    "- However only few restaurants are from other countries in which 5 are in Brazil, 3 in United States and 1 in United Kingdom."
   ]
  },
  {
   "cell_type": "markdown",
   "id": "2e258365",
   "metadata": {},
   "source": [
    "#### Q.4 Distribution of restaurents across countries?"
   ]
  },
  {
   "cell_type": "code",
   "execution_count": 24,
   "id": "b44a459a",
   "metadata": {},
   "outputs": [],
   "source": [
    "order=final_df.country.value_counts().index"
   ]
  },
  {
   "cell_type": "code",
   "execution_count": 25,
   "id": "0828fe45",
   "metadata": {},
   "outputs": [
    {
     "data": {
      "image/png": "[encoded data removed]",
      "text/plain": [
       "<Figure size 1440x360 with 1 Axes>"
      ]
     },
     "metadata": {
      "needs_background": "light"
     },
     "output_type": "display_data"
    }
   ],
   "source": [
    "plt.figure(figsize=(20,5))\n",
    "sns.set_style('whitegrid')\n",
    "ax=sns.countplot(x='country',data=final_df,order = order)\n",
    "\n",
    "for p, label in zip(ax.patches, final_df[\"country\"].value_counts().values):\n",
    "    ax.annotate(label, (p.get_x()+0.375, p.get_height()+0.15))"
   ]
  },
  {
   "cell_type": "markdown",
   "id": "249c5467",
   "metadata": {},
   "source": [
    "#### Observation:  - to do\n",
    "- Dataset consist maximum number of restaurants records are from India i.e almost 90% followed by United States and United Kingdom."
   ]
  },
  {
   "cell_type": "markdown",
   "id": "f66e6008",
   "metadata": {},
   "source": [
    "#### Q.5 Find out which currency is used by which country?"
   ]
  },
  {
   "cell_type": "code",
   "execution_count": 26,
   "id": "cf7b703d",
   "metadata": {},
   "outputs": [
    {
     "data": {
      "text/html": [
       "<div>\n",
       "<style scoped>\n",
       "    .dataframe tbody tr th:only-of-type {\n",
       "        vertical-align: middle;\n",
       "    }\n",
       "\n",
       "    .dataframe tbody tr th {\n",
       "        vertical-align: top;\n",
       "    }\n",
       "\n",
       "    .dataframe thead th {\n",
       "        text-align: right;\n",
       "    }\n",
       "</style>\n",
       "<table border=\"1\" class=\"dataframe\">\n",
       "  <thead>\n",
       "    <tr style=\"text-align: right;\">\n",
       "      <th></th>\n",
       "      <th>country</th>\n",
       "      <th>currency</th>\n",
       "    </tr>\n",
       "  </thead>\n",
       "  <tbody>\n",
       "    <tr>\n",
       "      <th>0</th>\n",
       "      <td>Australia</td>\n",
       "      <td>Dollar($)</td>\n",
       "    </tr>\n",
       "    <tr>\n",
       "      <th>1</th>\n",
       "      <td>Brazil</td>\n",
       "      <td>Brazilian Real(R$)</td>\n",
       "    </tr>\n",
       "    <tr>\n",
       "      <th>2</th>\n",
       "      <td>Canada</td>\n",
       "      <td>Dollar($)</td>\n",
       "    </tr>\n",
       "    <tr>\n",
       "      <th>3</th>\n",
       "      <td>India</td>\n",
       "      <td>Indian Rupees(Rs.)</td>\n",
       "    </tr>\n",
       "    <tr>\n",
       "      <th>4</th>\n",
       "      <td>Indonesia</td>\n",
       "      <td>Indonesian Rupiah(IDR)</td>\n",
       "    </tr>\n",
       "    <tr>\n",
       "      <th>5</th>\n",
       "      <td>New Zealand</td>\n",
       "      <td>NewZealand($)</td>\n",
       "    </tr>\n",
       "    <tr>\n",
       "      <th>6</th>\n",
       "      <td>Phillipines</td>\n",
       "      <td>Botswana Pula(P)</td>\n",
       "    </tr>\n",
       "    <tr>\n",
       "      <th>7</th>\n",
       "      <td>Qatar</td>\n",
       "      <td>Qatari Rial(QR)</td>\n",
       "    </tr>\n",
       "    <tr>\n",
       "      <th>8</th>\n",
       "      <td>Singapore</td>\n",
       "      <td>Dollar($)</td>\n",
       "    </tr>\n",
       "    <tr>\n",
       "      <th>9</th>\n",
       "      <td>South Africa</td>\n",
       "      <td>Rand(R)</td>\n",
       "    </tr>\n",
       "    <tr>\n",
       "      <th>10</th>\n",
       "      <td>Sri Lanka</td>\n",
       "      <td>Sri Lankan Rupee(LKR)</td>\n",
       "    </tr>\n",
       "    <tr>\n",
       "      <th>11</th>\n",
       "      <td>Turkey</td>\n",
       "      <td>Turkish Lira(TL)</td>\n",
       "    </tr>\n",
       "    <tr>\n",
       "      <th>12</th>\n",
       "      <td>UAE</td>\n",
       "      <td>Emirati Diram(AED)</td>\n",
       "    </tr>\n",
       "    <tr>\n",
       "      <th>13</th>\n",
       "      <td>United Kingdom</td>\n",
       "      <td>Pounds(��)</td>\n",
       "    </tr>\n",
       "    <tr>\n",
       "      <th>14</th>\n",
       "      <td>United States</td>\n",
       "      <td>Dollar($)</td>\n",
       "    </tr>\n",
       "  </tbody>\n",
       "</table>\n",
       "</div>"
      ],
      "text/plain": [
       "           country                currency\n",
       "0        Australia               Dollar($)\n",
       "1           Brazil      Brazilian Real(R$)\n",
       "2           Canada               Dollar($)\n",
       "3            India      Indian Rupees(Rs.)\n",
       "4        Indonesia  Indonesian Rupiah(IDR)\n",
       "5      New Zealand           NewZealand($)\n",
       "6      Phillipines        Botswana Pula(P)\n",
       "7            Qatar         Qatari Rial(QR)\n",
       "8        Singapore               Dollar($)\n",
       "9     South Africa                 Rand(R)\n",
       "10       Sri Lanka   Sri Lankan Rupee(LKR)\n",
       "11          Turkey        Turkish Lira(TL)\n",
       "12             UAE      Emirati Diram(AED)\n",
       "13  United Kingdom              Pounds(��)\n",
       "14   United States               Dollar($)"
      ]
     },
     "execution_count": 26,
     "metadata": {},
     "output_type": "execute_result"
    }
   ],
   "source": [
    "final_df[['country','currency']].groupby(['country','currency']).size().reset_index()[['country','currency']]"
   ]
  },
  {
   "cell_type": "markdown",
   "id": "765541d8",
   "metadata": {},
   "source": [
    "#### Q.6. Which countries do have online Delivery options and which have not online delivery options??"
   ]
  },
  {
   "cell_type": "code",
   "execution_count": 27,
   "id": "71a648fe",
   "metadata": {},
   "outputs": [
    {
     "data": {
      "text/plain": [
       "India    2423\n",
       "UAE        28\n",
       "Name: country, dtype: int64"
      ]
     },
     "execution_count": 27,
     "metadata": {},
     "output_type": "execute_result"
    }
   ],
   "source": [
    "final_df[final_df[\"has_online_delivery\"]==\"Yes\"].country.value_counts()"
   ]
  },
  {
   "cell_type": "code",
   "execution_count": 28,
   "id": "5aa9caa6",
   "metadata": {},
   "outputs": [
    {
     "data": {
      "text/html": [
       "<div>\n",
       "<style scoped>\n",
       "    .dataframe tbody tr th:only-of-type {\n",
       "        vertical-align: middle;\n",
       "    }\n",
       "\n",
       "    .dataframe tbody tr th {\n",
       "        vertical-align: top;\n",
       "    }\n",
       "\n",
       "    .dataframe thead th {\n",
       "        text-align: right;\n",
       "    }\n",
       "</style>\n",
       "<table border=\"1\" class=\"dataframe\">\n",
       "  <thead>\n",
       "    <tr style=\"text-align: right;\">\n",
       "      <th></th>\n",
       "      <th>has_online_delivery</th>\n",
       "      <th>country</th>\n",
       "      <th>0</th>\n",
       "    </tr>\n",
       "  </thead>\n",
       "  <tbody>\n",
       "    <tr>\n",
       "      <th>0</th>\n",
       "      <td>No</td>\n",
       "      <td>Australia</td>\n",
       "      <td>24</td>\n",
       "    </tr>\n",
       "    <tr>\n",
       "      <th>1</th>\n",
       "      <td>No</td>\n",
       "      <td>Brazil</td>\n",
       "      <td>60</td>\n",
       "    </tr>\n",
       "    <tr>\n",
       "      <th>2</th>\n",
       "      <td>No</td>\n",
       "      <td>Canada</td>\n",
       "      <td>4</td>\n",
       "    </tr>\n",
       "    <tr>\n",
       "      <th>3</th>\n",
       "      <td>No</td>\n",
       "      <td>India</td>\n",
       "      <td>6229</td>\n",
       "    </tr>\n",
       "    <tr>\n",
       "      <th>4</th>\n",
       "      <td>No</td>\n",
       "      <td>Indonesia</td>\n",
       "      <td>21</td>\n",
       "    </tr>\n",
       "    <tr>\n",
       "      <th>5</th>\n",
       "      <td>No</td>\n",
       "      <td>New Zealand</td>\n",
       "      <td>40</td>\n",
       "    </tr>\n",
       "    <tr>\n",
       "      <th>6</th>\n",
       "      <td>No</td>\n",
       "      <td>Phillipines</td>\n",
       "      <td>22</td>\n",
       "    </tr>\n",
       "    <tr>\n",
       "      <th>7</th>\n",
       "      <td>No</td>\n",
       "      <td>Qatar</td>\n",
       "      <td>20</td>\n",
       "    </tr>\n",
       "    <tr>\n",
       "      <th>8</th>\n",
       "      <td>No</td>\n",
       "      <td>Singapore</td>\n",
       "      <td>20</td>\n",
       "    </tr>\n",
       "    <tr>\n",
       "      <th>9</th>\n",
       "      <td>No</td>\n",
       "      <td>South Africa</td>\n",
       "      <td>60</td>\n",
       "    </tr>\n",
       "    <tr>\n",
       "      <th>10</th>\n",
       "      <td>No</td>\n",
       "      <td>Sri Lanka</td>\n",
       "      <td>20</td>\n",
       "    </tr>\n",
       "    <tr>\n",
       "      <th>11</th>\n",
       "      <td>No</td>\n",
       "      <td>Turkey</td>\n",
       "      <td>34</td>\n",
       "    </tr>\n",
       "    <tr>\n",
       "      <th>12</th>\n",
       "      <td>No</td>\n",
       "      <td>UAE</td>\n",
       "      <td>32</td>\n",
       "    </tr>\n",
       "    <tr>\n",
       "      <th>13</th>\n",
       "      <td>No</td>\n",
       "      <td>United Kingdom</td>\n",
       "      <td>80</td>\n",
       "    </tr>\n",
       "    <tr>\n",
       "      <th>14</th>\n",
       "      <td>No</td>\n",
       "      <td>United States</td>\n",
       "      <td>434</td>\n",
       "    </tr>\n",
       "    <tr>\n",
       "      <th>15</th>\n",
       "      <td>Yes</td>\n",
       "      <td>India</td>\n",
       "      <td>2423</td>\n",
       "    </tr>\n",
       "    <tr>\n",
       "      <th>16</th>\n",
       "      <td>Yes</td>\n",
       "      <td>UAE</td>\n",
       "      <td>28</td>\n",
       "    </tr>\n",
       "  </tbody>\n",
       "</table>\n",
       "</div>"
      ],
      "text/plain": [
       "   has_online_delivery         country     0\n",
       "0                   No       Australia    24\n",
       "1                   No          Brazil    60\n",
       "2                   No          Canada     4\n",
       "3                   No           India  6229\n",
       "4                   No       Indonesia    21\n",
       "5                   No     New Zealand    40\n",
       "6                   No     Phillipines    22\n",
       "7                   No           Qatar    20\n",
       "8                   No       Singapore    20\n",
       "9                   No    South Africa    60\n",
       "10                  No       Sri Lanka    20\n",
       "11                  No          Turkey    34\n",
       "12                  No             UAE    32\n",
       "13                  No  United Kingdom    80\n",
       "14                  No   United States   434\n",
       "15                 Yes           India  2423\n",
       "16                 Yes             UAE    28"
      ]
     },
     "execution_count": 28,
     "metadata": {},
     "output_type": "execute_result"
    }
   ],
   "source": [
    "final_df[['has_online_delivery','country']].groupby(['has_online_delivery','country']).size().reset_index()"
   ]
  },
  {
   "cell_type": "markdown",
   "id": "5bf5b45b",
   "metadata": {},
   "source": [
    "#### Observation: \n",
    "- Indian and UAE restaurants only have Online Delivery options in this dataset."
   ]
  },
  {
   "cell_type": "markdown",
   "id": "e4e90016",
   "metadata": {},
   "source": [
    "#### Q.7 Create a pie chart for  top 5 cities distribution."
   ]
  },
  {
   "cell_type": "code",
   "execution_count": 29,
   "id": "72b36201",
   "metadata": {},
   "outputs": [],
   "source": [
    "city_values=final_df.city.value_counts().values[:5]\n",
    "city_labels=final_df.city.value_counts().index[:5]"
   ]
  },
  {
   "cell_type": "code",
   "execution_count": 31,
   "id": "27eaa7ac",
   "metadata": {},
   "outputs": [
    {
     "data": {
      "image/png": "[encoded data removed]",
      "text/plain": [
       "<Figure size 360x360 with 1 Axes>"
      ]
     },
     "metadata": {},
     "output_type": "display_data"
    }
   ],
   "source": [
    "graph=plt.pie(city_values,labels=city_labels,autopct='%1.2f%%')"
   ]
  },
  {
   "cell_type": "markdown",
   "id": "268788c5",
   "metadata": {},
   "source": [
    "### Observation\n",
    "- New Delhi has maximum number of restaurants followed by Gurgoan and Noida."
   ]
  },
  {
   "cell_type": "markdown",
   "id": "e5ceb9f5",
   "metadata": {},
   "source": [
    " #### Q.8. Find the top 10 Cuisines"
   ]
  },
  {
   "cell_type": "code",
   "execution_count": 32,
   "id": "8be0a595",
   "metadata": {},
   "outputs": [],
   "source": [
    "cuisines_values=final_df.cuisines.value_counts().values\n",
    "cuisines_labels=final_df.cuisines.value_counts().index"
   ]
  },
  {
   "cell_type": "code",
   "execution_count": 33,
   "id": "6789838f",
   "metadata": {},
   "outputs": [
    {
     "data": {
      "image/png": "[encoded data removed]",
      "text/plain": [
       "<Figure size 360x360 with 1 Axes>"
      ]
     },
     "metadata": {},
     "output_type": "display_data"
    }
   ],
   "source": [
    "plt = plt.pie(cuisines_values[:10],labels=cuisines_labels[:10],autopct='%1.2f%%')"
   ]
  },
  {
   "cell_type": "markdown",
   "id": "4bd7ea3d",
   "metadata": {},
   "source": [
    "### Observation\n",
    "- North Indian food dominates the Indian taste buds,because majority of the restaurents are based out of North India(Previous graph).\n",
    "- North Indian,Chinese,Fast food,Mughlai are few popular cuisines in India."
   ]
  },
  {
   "cell_type": "markdown",
   "id": "d9f6e3cb",
   "metadata": {},
   "source": [
    "#### Q.9. Which country has cheapest food?"
   ]
  },
  {
   "cell_type": "code",
   "execution_count": 43,
   "id": "ec8c9720",
   "metadata": {},
   "outputs": [],
   "source": [
    "# Converting all cost into one currency i.e. in US dollars.\n",
    "final_df['average_cost_for_two_in_US_dollars']=final_df['average_cost_for_two']*final_df['exchange_rate_in_US_dollar']"
   ]
  },
  {
   "cell_type": "code",
   "execution_count": 44,
   "id": "81fe6157",
   "metadata": {},
   "outputs": [
    {
     "data": {
      "text/plain": [
       "<AxesSubplot:xlabel='average_cost_for_two_in_US_dollars', ylabel='country'>"
      ]
     },
     "execution_count": 44,
     "metadata": {},
     "output_type": "execute_result"
    },
    {
     "data": {
      "image/png": "[encoded data removed]",
      "text/plain": [
       "<Figure size 864x432 with 1 Axes>"
      ]
     },
     "metadata": {
      "needs_background": "light"
     },
     "output_type": "display_data"
    }
   ],
   "source": [
    "sns.barplot(x=\"average_cost_for_two_in_US_dollars\", y=\"country\", data=final_df)"
   ]
  },
  {
   "cell_type": "markdown",
   "id": "d0cd8e91",
   "metadata": {},
   "source": [
    " #### Observation:\n",
    " India has the cheapest average cost for 2 persons, followed by Sri Lanka and Indonesia."
   ]
  },
  {
   "cell_type": "markdown",
   "id": "9714b723",
   "metadata": {},
   "source": [
    "#### Q.10 a) Create a tree map for cuisines for India \n"
   ]
  },
  {
   "cell_type": "code",
   "execution_count": 45,
   "id": "41f5e154",
   "metadata": {},
   "outputs": [],
   "source": [
    "cuisines_values=final_df[final_df.country.isin(['India'])].cuisines.value_counts().values[:12]\n",
    "cuisines_labels=final_df[final_df.country.isin(['India'])].cuisines.value_counts().index[:12]\n"
   ]
  },
  {
   "cell_type": "code",
   "execution_count": 46,
   "id": "c33fb3e7",
   "metadata": {},
   "outputs": [
    {
     "data": {
      "text/plain": [
       "(0.0, 100.0, 0.0, 100.0)"
      ]
     },
     "execution_count": 46,
     "metadata": {},
     "output_type": "execute_result"
    },
    {
     "data": {
      "image/png": "[encoded data removed]",
      "text/plain": [
       "<Figure size 864x432 with 1 Axes>"
      ]
     },
     "metadata": {
      "needs_background": "light"
     },
     "output_type": "display_data"
    }
   ],
   "source": [
    "import squarify\n",
    "squarify.plot(sizes=cuisines_values,label=cuisines_labels,alpha=0.6)\n",
    "plt.axis('off')"
   ]
  },
  {
   "cell_type": "markdown",
   "id": "d388519f",
   "metadata": {},
   "source": [
    "#### Observation:\n",
    "North Indian,Chinese,Fast food, Mughlai are few popular cuisines in India."
   ]
  },
  {
   "cell_type": "markdown",
   "id": "de88f430",
   "metadata": {},
   "source": [
    "#### Q.10 b) Tree map for Cuisines for United States"
   ]
  },
  {
   "cell_type": "code",
   "execution_count": 47,
   "id": "21c0f622",
   "metadata": {},
   "outputs": [],
   "source": [
    "cuisines_values=final_df[final_df.country.isin(['United States'])].cuisines.value_counts().values[:12]\n",
    "cuisines_labels=final_df[final_df.country.isin(['United States'])].cuisines.value_counts().index[:12]"
   ]
  },
  {
   "cell_type": "code",
   "execution_count": 48,
   "id": "34a65859",
   "metadata": {},
   "outputs": [
    {
     "data": {
      "text/plain": [
       "(0.0, 100.0, 0.0, 100.0)"
      ]
     },
     "execution_count": 48,
     "metadata": {},
     "output_type": "execute_result"
    },
    {
     "data": {
      "image/png": "[encoded data removed]",
      "text/plain": [
       "<Figure size 864x432 with 1 Axes>"
      ]
     },
     "metadata": {
      "needs_background": "light"
     },
     "output_type": "display_data"
    }
   ],
   "source": [
    "import squarify\n",
    "squarify.plot(sizes=cuisines_values,label=cuisines_labels,alpha=0.6)\n",
    "plt.axis('off')"
   ]
  },
  {
   "cell_type": "markdown",
   "id": "366c39e5",
   "metadata": {},
   "source": [
    "#### Observation:\n",
    "- As per this dataset:\n",
    "- Americans love everything American- steak,seafood, burgers,BBQ apart from Mexican and Chinese food. \n",
    "- Popular Indian cuisine is North Indian owing to major North Indian cities and for the USA it’s all Americana food."
   ]
  },
  {
   "cell_type": "markdown",
   "id": "02c04a91",
   "metadata": {},
   "source": [
    "#### Q.11 a) Create a histogram for distribution of Votes across India ?"
   ]
  },
  {
   "cell_type": "code",
   "execution_count": 100,
   "id": "90feb0fb",
   "metadata": {},
   "outputs": [
    {
     "data": {
      "text/plain": [
       "<seaborn.axisgrid.FacetGrid at 0x7fa6b31d03d0>"
      ]
     },
     "execution_count": 100,
     "metadata": {},
     "output_type": "execute_result"
    },
    {
     "data": {
      "image/png": "[encoded data removed]",
      "text/plain": [
       "<Figure size 360x360 with 1 Axes>"
      ]
     },
     "metadata": {},
     "output_type": "display_data"
    }
   ],
   "source": [
    "histogram=final_df[final_df.country.isin(['India'])].votes\n",
    "sns.displot(histogram.dropna(),kde=False,color='darkred',bins=40)"
   ]
  },
  {
   "cell_type": "markdown",
   "id": "a38e90e8",
   "metadata": {},
   "source": [
    "#### Observation:\n",
    "\n",
    "A major of Indian restaurents ratings are Zero"
   ]
  },
  {
   "cell_type": "markdown",
   "id": "1becb6b4",
   "metadata": {},
   "source": [
    "#### Q.11 b) Create a histogram for distribution of Votes across United States ?"
   ]
  },
  {
   "cell_type": "code",
   "execution_count": 101,
   "id": "dd196477",
   "metadata": {},
   "outputs": [
    {
     "data": {
      "text/plain": [
       "<seaborn.axisgrid.FacetGrid at 0x7fa6a0bb3850>"
      ]
     },
     "execution_count": 101,
     "metadata": {},
     "output_type": "execute_result"
    },
    {
     "data": {
      "image/png": "[encoded data removed]",
      "text/plain": [
       "<Figure size 360x360 with 1 Axes>"
      ]
     },
     "metadata": {},
     "output_type": "display_data"
    }
   ],
   "source": [
    "histogram=final_df[final_df.country.isin(['United States'])].votes\n",
    "sns.displot(histogram.dropna(),kde=False,color='darkred',bins=40)"
   ]
  },
  {
   "cell_type": "markdown",
   "id": "8302bab2",
   "metadata": {},
   "source": [
    "#### Observation:\n",
    "\n",
    "- As per dataset:\n",
    "- USA restaurants have higher ratings compared with Indian restaurants, this could indicate a better service in the US.\n",
    "- US customers provide ratings more frequently and consistently than Indians."
   ]
  },
  {
   "cell_type": "markdown",
   "id": "022ab57a",
   "metadata": {},
   "source": [
    "## Conclusion - Results:\n",
    "Hence, we successfuly able to find out all following questions answer:\n",
    "#### Q.1 Top 3 countries that uses the zomato?\n",
    "- Maximum number of transctions is in India\n",
    "- Zomato maximum records are from India followed by USA and United Kingdom."
   ]
  },
  {
   "cell_type": "markdown",
   "id": "9cac303e",
   "metadata": {},
   "source": [
    "#### Q.2.  Find maximum number of rating?\n",
    "\n",
    "### Observations:\n",
    "- When rating is between:\n",
    " - 4.5 to 4.9 ---> Excellent\n",
    " - 4.0 to 4.4 ---> Very good\n",
    " - 3.5 to 3.9 ---> Good\n",
    " - 2.5 to 3.4 ---> Average\n",
    " - 1.8 to 2.4 ---> Poor\n",
    "\n",
    "- As labeled in graph - 3737 restaurants didn't have any rating.\n",
    "- Rating shows normal distribution i.e. the data follows a bell shape, with most values clustering around a central region and tapering off as they go further away from the center.\n",
    "- Maximum number restaurants are average rated i.e. between 3 to 3.5."
   ]
  },
  {
   "cell_type": "markdown",
   "id": "c66791e6",
   "metadata": {},
   "source": [
    "#### Q.3. Find the country names that has given 0 rating\n",
    "\n",
    "- Maximum number of zero ratings are from Indian customer.\n",
    "- However only few restaurants are from other countries in which 5 are in Brazil, 3 in United States and 1 in United Kingdom."
   ]
  },
  {
   "cell_type": "markdown",
   "id": "976d397a",
   "metadata": {},
   "source": [
    "#### Q.4 Distribution of restaurent across countries?"
   ]
  },
  {
   "cell_type": "markdown",
   "id": "58e8bd15",
   "metadata": {},
   "source": [
    "- India has largest number of restaurants across countries which consit of 90% followed by United States and United Kingdom."
   ]
  },
  {
   "cell_type": "markdown",
   "id": "4413574f",
   "metadata": {},
   "source": [
    "#### Q.5  Find out which currency is used by which country?"
   ]
  },
  {
   "attachments": {
    "Q.5_screenshot.png": {
     "image/png": "[encoded data removed]"
    }
   },
   "cell_type": "markdown",
   "id": "eec711c6",
   "metadata": {},
   "source": [
    "![Q.5_screenshot.png](attachment:Q.5_screenshot.png)"
   ]
  },
  {
   "cell_type": "markdown",
   "id": "a874c956",
   "metadata": {},
   "source": [
    "#### Q.6 Which countries do have online Delivery options and which have not online delivery options?"
   ]
  },
  {
   "cell_type": "markdown",
   "id": "32940de1",
   "metadata": {},
   "source": [
    "### Observation:\n",
    "- Indian and UAE restaurants only have Online Delivery options in this dataset."
   ]
  },
  {
   "cell_type": "markdown",
   "id": "a795b15b",
   "metadata": {},
   "source": [
    "#### Q.7 Created a pie chart for top 5 cities distribution? "
   ]
  },
  {
   "cell_type": "markdown",
   "id": "af9ee4ee",
   "metadata": {},
   "source": [
    "#### Observation:\n",
    "- New Delhi has maximum number of restaurants followed by Gurgoan and Noida"
   ]
  },
  {
   "cell_type": "markdown",
   "id": "0319e17c",
   "metadata": {},
   "source": [
    "#### Q.8 Find the top 10 Cuisines?"
   ]
  },
  {
   "cell_type": "markdown",
   "id": "929a94b0",
   "metadata": {},
   "source": [
    "#### Observations:\n",
    "- North Indian food dominates the Indian taste buds,because majority of the restaurents are based out of North India.\n",
    "- North Indian,Chinese,Fast food,Mughlai are few popular cuisines in India."
   ]
  },
  {
   "cell_type": "markdown",
   "id": "94b3150c",
   "metadata": {},
   "source": [
    "#### Q.9. Which country has cheapest food?"
   ]
  },
  {
   "cell_type": "markdown",
   "id": "27d9c2c3",
   "metadata": {},
   "source": [
    "#### Observation:\n",
    " - India has the cheapest average cost for 2 persons, followed by Sri Lanka and Indonesia."
   ]
  },
  {
   "cell_type": "markdown",
   "id": "1fde881a",
   "metadata": {},
   "source": [
    "#### Q.10 a) Create a tree map for cuisines for India \n"
   ]
  },
  {
   "cell_type": "markdown",
   "id": "ff81369c",
   "metadata": {},
   "source": [
    "#### Observation:\n",
    "- North Indian,Chinese,Fast food, Mughlai are few popular cuisines in India."
   ]
  },
  {
   "cell_type": "markdown",
   "id": "3b06dc2e",
   "metadata": {},
   "source": [
    "#### Q. 10 b) Create a tree map for cuisines for United States"
   ]
  },
  {
   "cell_type": "markdown",
   "id": "0ad12924",
   "metadata": {},
   "source": [
    "#### Observation:\n",
    "- Americans love everything American- steak,seafood, burgers,BBQ apart from Mexican and Chinese food. "
   ]
  },
  {
   "cell_type": "markdown",
   "id": "19bbe360",
   "metadata": {},
   "source": [
    "### Conclusion:\n",
    "- Popular Indian cuisine is North Indian owing to major North Indian cities and for the USA it’s all Americana food."
   ]
  },
  {
   "cell_type": "markdown",
   "id": "b68e6d16",
   "metadata": {},
   "source": [
    "#### Q.11 a) Create a histogram for distribution of votes across India?"
   ]
  },
  {
   "cell_type": "markdown",
   "id": "309c6b64",
   "metadata": {},
   "source": [
    "#### Observation:\n",
    "- A major of Indian restaurents ratings are Zero."
   ]
  },
  {
   "cell_type": "markdown",
   "id": "26ac4af7",
   "metadata": {},
   "source": [
    "#### Q.11 b) Create a histogram for distribution of Votes across United States ?"
   ]
  },
  {
   "cell_type": "markdown",
   "id": "610f1acf",
   "metadata": {},
   "source": [
    "#### Observations:\n",
    "- USA restaurants have higher ratings compared with Indian restaurants, this could indicate a better service in the US.\n",
    "- US customers provide ratings more frequently and consistently than Indians."
   ]
  },
  {
   "cell_type": "markdown",
   "id": "f7160603",
   "metadata": {},
   "source": [
    "### Conclusions"
   ]
  },
  {
   "cell_type": "markdown",
   "id": "68a5c7be",
   "metadata": {},
   "source": [
    "90% of observations belong to India.\n"
   ]
  }
 ],
 "metadata": {
  "kernelspec": {
   "display_name": "Python 3",
   "language": "python",
   "name": "python3"
  },
  "language_info": {
   "codemirror_mode": {
    "name": "ipython",
    "version": 3
   },
   "file_extension": ".py",
   "mimetype": "text/x-python",
   "name": "python",
   "nbconvert_exporter": "python",
   "pygments_lexer": "ipython3",
   "version": "3.8.8"
  }
 },
 "nbformat": 4,
 "nbformat_minor": 5
}
